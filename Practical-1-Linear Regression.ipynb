{
 "cells": [
  {
   "cell_type": "code",
   "execution_count": 1,
   "id": "669d8b0b",
   "metadata": {},
   "outputs": [],
   "source": [
    " # Import Dependencies\n",
    "import numpy as np\n",
    "import matplotlib.pyplot as plt\n",
    "from sklearn import datasets,linear_model,metrics\n",
    "from sklearn.model_selection import train_test_split\n",
    "from sklearn.metrics import mean_squared_error, r2_score\n",
    "import seaborn as sns"
   ]
  },
  {
   "cell_type": "code",
   "execution_count": null,
   "id": "06cbf4bd",
   "metadata": {},
   "outputs": [],
   "source": []
  },
  {
   "cell_type": "code",
   "execution_count": 2,
   "id": "66f6d0fe",
   "metadata": {},
   "outputs": [],
   "source": [
    " # Load the diabetes dataset\n",
    "diabetes=datasets.load_diabetes()"
   ]
  },
  {
   "cell_type": "code",
   "execution_count": 3,
   "id": "00719380",
   "metadata": {},
   "outputs": [],
   "source": [
    "# X - feature vectors\n",
    "# y - Target values\n",
    "X=diabetes.data\n",
    "y=diabetes.target"
   ]
  },
  {
   "cell_type": "code",
   "execution_count": 4,
   "id": "bb488e99",
   "metadata": {},
   "outputs": [],
   "source": [
    "# splitting X and y into training and testing sets\n",
    "X_train, X_test, y_train, y_test = train_test_split(X, y, test_size=0.4, random_state=1)\n"
   ]
  },
  {
   "cell_type": "code",
   "execution_count": 5,
   "id": "906f4996",
   "metadata": {},
   "outputs": [],
   "source": [
    "# Create linear regression objest\n",
    "lin_reg=linear_model.LinearRegression()"
   ]
  },
  {
   "cell_type": "code",
   "execution_count": 6,
   "id": "219055a5",
   "metadata": {},
   "outputs": [
    {
     "data": {
      "text/plain": [
       "LinearRegression()"
      ]
     },
     "execution_count": 6,
     "metadata": {},
     "output_type": "execute_result"
    }
   ],
   "source": [
    "# Train the model using trai and test data\n",
    "lin_reg.fit(X_train,y_train)"
   ]
  },
  {
   "cell_type": "code",
   "execution_count": 7,
   "id": "08b583ee",
   "metadata": {},
   "outputs": [],
   "source": [
    "# Predict values for X_test data\n",
    "predicted = lin_reg.predict(X_test)"
   ]
  },
  {
   "cell_type": "code",
   "execution_count": 8,
   "id": "2412d2e5",
   "metadata": {},
   "outputs": [
    {
     "name": "stdout",
     "output_type": "stream",
     "text": [
      "\n",
      " Coefficients are:\n",
      " [ -59.73663337 -215.62170919  599.92621335  291.96724002 -829.65206295\n",
      "  544.63994617  164.85191153  224.2392528   768.94426062   70.84982207]\n",
      "\n",
      "Intercept :  152.89009028286725\n",
      "Variance score:  0.4160439011127658\n"
     ]
    }
   ],
   "source": [
    " # Regression coefficients\n",
    "print('\\n Coefficients are:\\n',lin_reg.coef_)\n",
    "# Intecept\n",
    "print('\\nIntercept : ',lin_reg.intercept_)\n",
    "# variance score: 1 means perfect prediction\n",
    "print('Variance score: ',lin_reg.score(X_test, y_test))"
   ]
  },
  {
   "cell_type": "code",
   "execution_count": 9,
   "id": "a180cfd4",
   "metadata": {},
   "outputs": [
    {
     "name": "stdout",
     "output_type": "stream",
     "text": [
      "Mean squared error: 2962.93\n",
      "\n"
     ]
    }
   ],
   "source": [
    "# Mean Squared Erroe\n",
    "print(\"Mean squared error: %.2f\\n\"\n",
    "% mean_squared_error(y_test, predicted))\n",
    "# Original data of X_test\n",
    "expected = y_test"
   ]
  },
  {
   "cell_type": "code",
   "execution_count": 10,
   "id": "4f0eaa85",
   "metadata": {},
   "outputs": [
    {
     "data": {
      "image/png": "[encoded data removed]",
      "text/plain": [
       "<Figure size 432x288 with 1 Axes>"
      ]
     },
     "metadata": {
      "needs_background": "light"
     },
     "output_type": "display_data"
    }
   ],
   "source": [
    "# Plot a graph for expected and predicted values\n",
    "plt.title('Linear Regression ( DIABETS Dataset)')\n",
    "plt.scatter(expected,predicted,c='b',marker='.',s=36)\n",
    "plt.plot(np.linspace(0, 330, 100),np.linspace(0, 330, 100), '--r', linewidth=2)\n",
    "plt.show()"
   ]
  },
  {
   "cell_type": "code",
   "execution_count": null,
   "id": "2dd564db",
   "metadata": {},
   "outputs": [],
   "source": []
  }
 ],
 "metadata": {
  "kernelspec": {
   "display_name": "Python 3 (ipykernel)",
   "language": "python",
   "name": "python3"
  },
  "language_info": {
   "codemirror_mode": {
    "name": "ipython",
    "version": 3
   },
   "file_extension": ".py",
   "mimetype": "text/x-python",
   "name": "python",
   "nbconvert_exporter": "python",
   "pygments_lexer": "ipython3",
   "version": "3.9.12"
  }
 },
 "nbformat": 4,
 "nbformat_minor": 5
}
