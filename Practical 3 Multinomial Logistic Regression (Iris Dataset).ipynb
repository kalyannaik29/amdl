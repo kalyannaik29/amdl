{
 "cells": [
  {
   "cell_type": "code",
   "execution_count": null,
   "id": "45833178",
   "metadata": {},
   "outputs": [],
   "source": [
    "Practical 3 Multinomial Logistic Regression (Iris Dataset)"
   ]
  },
  {
   "cell_type": "code",
   "execution_count": 1,
   "id": "3c7af771",
   "metadata": {},
   "outputs": [],
   "source": [
    "#Loading the libraries and the data\n",
    "import numpy as np\n",
    "import pandas as pd\n",
    "from sklearn.linear_model import LogisticRegression\n",
    "from sklearn.model_selection import train_test_split\n",
    "from sklearn import preprocessing\n",
    "from sklearn.metrics import accuracy_score\n",
    "from sklearn.model_selection import cross_val_score\n",
    "from sklearn.metrics import confusion_matrix\n",
    "import matplotlib as mpl\n",
    "import matplotlib.pyplot as plt\n",
    "import statsmodels.api as sm"
   ]
  },
  {
   "cell_type": "code",
   "execution_count": 16,
   "id": "1262c696",
   "metadata": {},
   "outputs": [
    {
     "data": {
      "text/html": [
       "<div>\n",
       "<style scoped>\n",
       "    .dataframe tbody tr th:only-of-type {\n",
       "        vertical-align: middle;\n",
       "    }\n",
       "\n",
       "    .dataframe tbody tr th {\n",
       "        vertical-align: top;\n",
       "    }\n",
       "\n",
       "    .dataframe thead th {\n",
       "        text-align: right;\n",
       "    }\n",
       "</style>\n",
       "<table border=\"1\" class=\"dataframe\">\n",
       "  <thead>\n",
       "    <tr style=\"text-align: right;\">\n",
       "      <th></th>\n",
       "      <th>sepal_length</th>\n",
       "      <th>sepal_width</th>\n",
       "      <th>petal_length</th>\n",
       "      <th>petal_width</th>\n",
       "      <th>species</th>\n",
       "    </tr>\n",
       "  </thead>\n",
       "  <tbody>\n",
       "    <tr>\n",
       "      <th>0</th>\n",
       "      <td>5.100000</td>\n",
       "      <td>3.500000</td>\n",
       "      <td>1.400000</td>\n",
       "      <td>0.200000</td>\n",
       "      <td>Iris-setosa</td>\n",
       "    </tr>\n",
       "    <tr>\n",
       "      <th>1</th>\n",
       "      <td>4.900000</td>\n",
       "      <td>3.000000</td>\n",
       "      <td>1.400000</td>\n",
       "      <td>0.200000</td>\n",
       "      <td>Iris-setosa</td>\n",
       "    </tr>\n",
       "    <tr>\n",
       "      <th>2</th>\n",
       "      <td>4.700000</td>\n",
       "      <td>3.200000</td>\n",
       "      <td>1.300000</td>\n",
       "      <td>0.200000</td>\n",
       "      <td>Iris-setosa</td>\n",
       "    </tr>\n",
       "    <tr>\n",
       "      <th>3</th>\n",
       "      <td>4.600000</td>\n",
       "      <td>3.100000</td>\n",
       "      <td>1.500000</td>\n",
       "      <td>0.200000</td>\n",
       "      <td>Iris-setosa</td>\n",
       "    </tr>\n",
       "    <tr>\n",
       "      <th>4</th>\n",
       "      <td>5.000000</td>\n",
       "      <td>3.600000</td>\n",
       "      <td>1.400000</td>\n",
       "      <td>0.200000</td>\n",
       "      <td>Iris-setosa</td>\n",
       "    </tr>\n",
       "  </tbody>\n",
       "</table>\n",
       "</div>"
      ],
      "text/plain": [
       "   sepal_length  sepal_width  petal_length  petal_width      species\n",
       "0      5.100000     3.500000      1.400000     0.200000  Iris-setosa\n",
       "1      4.900000     3.000000      1.400000     0.200000  Iris-setosa\n",
       "2      4.700000     3.200000      1.300000     0.200000  Iris-setosa\n",
       "3      4.600000     3.100000      1.500000     0.200000  Iris-setosa\n",
       "4      5.000000     3.600000      1.400000     0.200000  Iris-setosa"
      ]
     },
     "execution_count": 16,
     "metadata": {},
     "output_type": "execute_result"
    }
   ],
   "source": [
    "#for readable figures\n",
    "pd.set_option('float_format', '{:f}'.format)\n",
    "iris = pd.read_csv(\"./Iris_Data.csv\")\n",
    "iris.head()"
   ]
  },
  {
   "cell_type": "code",
   "execution_count": 17,
   "id": "2f857bf9",
   "metadata": {},
   "outputs": [],
   "source": [
    "x = iris.drop('species', axis=1)\n",
    "y = iris['species']\n",
    "trainX, testX, trainY, testY = train_test_split(x, y, test_size = 0.2)"
   ]
  },
  {
   "cell_type": "code",
   "execution_count": 18,
   "id": "9d1fc616",
   "metadata": {},
   "outputs": [],
   "source": [
    "#Fit the model\n",
    "log_reg = LogisticRegression(solver='newton-cg', multi_class='multinomial')\n",
    "log_reg.fit(trainX, trainY)\n",
    "y_pred = log_reg.predict(testX)"
   ]
  },
  {
   "cell_type": "code",
   "execution_count": 19,
   "id": "77f441a8",
   "metadata": {},
   "outputs": [
    {
     "name": "stdout",
     "output_type": "stream",
     "text": [
      "Accuracy: 0.97\n",
      "Error rate: 0.03\n"
     ]
    }
   ],
   "source": [
    "# Model validation\n",
    "# print the accuracy and error rate:\n",
    "print('Accuracy: {:.2f}'.format(accuracy_score(testY, y_pred)))\n",
    "print('Error rate: {:.2f}'.format(1 - accuracy_score(testY, y_pred)))\n"
   ]
  },
  {
   "cell_type": "code",
   "execution_count": 20,
   "id": "8c73f890",
   "metadata": {},
   "outputs": [
    {
     "data": {
      "text/plain": [
       "array([1.        , 1.        , 1.        , 0.91666667, 0.95833333])"
      ]
     },
     "execution_count": 20,
     "metadata": {},
     "output_type": "execute_result"
    }
   ],
   "source": [
    "# look at the scores from cross validation:\n",
    "clf = LogisticRegression(solver='newton-cg', multi_class='multinomial')\n",
    "scores = cross_val_score(clf, trainX, trainY, cv=5)\n",
    "scores"
   ]
  },
  {
   "cell_type": "code",
   "execution_count": 21,
   "id": "93ac6092",
   "metadata": {},
   "outputs": [
    {
     "name": "stdout",
     "output_type": "stream",
     "text": [
      "Accuracy: 0.97 (+/- 0.07)\n"
     ]
    }
   ],
   "source": [
    "print(\"Accuracy: %0.2f (+/- %0.2f)\" % (scores.mean(), scores.std() * 2))"
   ]
  },
  {
   "cell_type": "code",
   "execution_count": 22,
   "id": "f823410f",
   "metadata": {},
   "outputs": [
    {
     "name": "stdout",
     "output_type": "stream",
     "text": [
      "[[11  0  0]\n",
      " [ 0  8  1]\n",
      " [ 0  0 10]]\n"
     ]
    }
   ],
   "source": [
    "#look at the confusion matrix:\n",
    "confusion_matrix = confusion_matrix(testY, y_pred)\n",
    "print(confusion_matrix)"
   ]
  },
  {
   "cell_type": "code",
   "execution_count": 23,
   "id": "0bc76e86",
   "metadata": {},
   "outputs": [
    {
     "data": {
      "image/png": "[encoded data removed]",
      "text/plain": [
       "<Figure size 288x288 with 1 Axes>"
      ]
     },
     "metadata": {
      "needs_background": "light"
     },
     "output_type": "display_data"
    }
   ],
   "source": [
    "#If you have many variables, it makes sense to plot the confusion matrix:\n",
    "plt.matshow(confusion_matrix, cmap=plt.cm.gray)\n",
    "plt.show()"
   ]
  },
  {
   "cell_type": "code",
   "execution_count": 24,
   "id": "e76b3664",
   "metadata": {},
   "outputs": [
    {
     "data": {
      "text/plain": [
       "array([[9.84318716e-01, 1.56812457e-02, 3.82157191e-08],\n",
       "       [4.32843456e-06, 1.72053824e-02, 9.82790289e-01],\n",
       "       [9.02222781e-03, 9.37858371e-01, 5.31194015e-02],\n",
       "       [3.88425029e-04, 1.71896072e-01, 8.27715503e-01],\n",
       "       [9.47999234e-01, 5.20006123e-02, 1.53951243e-07],\n",
       "       [9.95056935e-01, 4.94306163e-03, 3.73376550e-09],\n",
       "       [9.68242172e-01, 3.17576916e-02, 1.35919310e-07],\n",
       "       [9.68922508e-01, 3.10771963e-02, 2.96102982e-07],\n",
       "       [2.09713042e-02, 9.56743144e-01, 2.22855517e-02],\n",
       "       [9.65448970e-01, 3.45509552e-02, 7.46338644e-08],\n",
       "       [9.47507203e-01, 5.24923377e-02, 4.59076615e-07],\n",
       "       [2.51417808e-02, 9.25468035e-01, 4.93901841e-02],\n",
       "       [1.56997612e-03, 4.70791306e-01, 5.27638718e-01],\n",
       "       [7.79120413e-04, 4.86921805e-01, 5.12299074e-01],\n",
       "       [1.23058133e-04, 5.04403109e-02, 9.49436631e-01],\n",
       "       [6.65067467e-03, 9.24329452e-01, 6.90198732e-02],\n",
       "       [9.84969638e-01, 1.50303126e-02, 4.91853269e-08],\n",
       "       [9.74344915e-01, 2.56550611e-02, 2.35458191e-08],\n",
       "       [9.87556110e-01, 1.24438613e-02, 2.86350619e-08],\n",
       "       [1.33772087e-02, 7.25217239e-01, 2.61405553e-01],\n",
       "       [9.72743769e-01, 2.72561649e-02, 6.61570586e-08],\n",
       "       [1.12908647e-04, 1.35328703e-01, 8.64558389e-01],\n",
       "       [2.78149555e-01, 7.20069184e-01, 1.78126029e-03],\n",
       "       [1.56544600e-05, 3.43312941e-02, 9.65653051e-01],\n",
       "       [2.06209729e-05, 4.48574264e-02, 9.55121953e-01],\n",
       "       [2.62157728e-02, 9.24064934e-01, 4.97192932e-02],\n",
       "       [2.18558065e-02, 9.11978972e-01, 6.61652216e-02],\n",
       "       [5.47412018e-05, 9.36154096e-02, 9.06329849e-01],\n",
       "       [3.99669392e-05, 8.19998913e-02, 9.17960142e-01],\n",
       "       [6.79116816e-04, 3.57514978e-01, 6.41805905e-01]])"
      ]
     },
     "execution_count": 24,
     "metadata": {},
     "output_type": "execute_result"
    }
   ],
   "source": [
    "#Calculated probabilities\n",
    "#get the probabilities of the predicted classes\n",
    "probability = log_reg.predict_proba(testX)\n",
    "probability"
   ]
  },
  {
   "cell_type": "code",
   "execution_count": 25,
   "id": "f207543e",
   "metadata": {},
   "outputs": [
    {
     "ename": "SyntaxError",
     "evalue": "invalid character '→' (U+2192) (3385936091.py, line 2)",
     "output_type": "error",
     "traceback": [
      "\u001b[1;36m  Input \u001b[1;32mIn [25]\u001b[1;36m\u001b[0m\n\u001b[1;33m    →the(\"output\", \"of\", \"the\", \"predicted\", \"class.\", \"Here\", \"we\", \"can\", \"see\", \"that\", \"the\", \"length\", \"of\", \"the␣\")\u001b[0m\n\u001b[1;37m    ^\u001b[0m\n\u001b[1;31mSyntaxError\u001b[0m\u001b[1;31m:\u001b[0m invalid character '→' (U+2192)\n"
     ]
    }
   ],
   "source": [
    "#Each column here represents a class. The class with the highest probability is␣\n",
    ",→the output of the predicted class. Here we can see that the length of the␣\n",
    ",→probability data is the same as the length of the test data.\n",
    "print(probability.shape[0])\n",
    "print(testX.shape[0])\n"
   ]
  },
  {
   "cell_type": "code",
   "execution_count": 26,
   "id": "1ec2ae8c",
   "metadata": {},
   "outputs": [
    {
     "data": {
      "text/html": [
       "<div>\n",
       "<style scoped>\n",
       "    .dataframe tbody tr th:only-of-type {\n",
       "        vertical-align: middle;\n",
       "    }\n",
       "\n",
       "    .dataframe tbody tr th {\n",
       "        vertical-align: top;\n",
       "    }\n",
       "\n",
       "    .dataframe thead th {\n",
       "        text-align: right;\n",
       "    }\n",
       "</style>\n",
       "<table border=\"1\" class=\"dataframe\">\n",
       "  <thead>\n",
       "    <tr style=\"text-align: right;\">\n",
       "      <th></th>\n",
       "      <th>Iris-setosa</th>\n",
       "      <th>Iris-versicolor</th>\n",
       "      <th>Iris-virginica</th>\n",
       "    </tr>\n",
       "  </thead>\n",
       "  <tbody>\n",
       "    <tr>\n",
       "      <th>0</th>\n",
       "      <td>0.984319</td>\n",
       "      <td>0.015681</td>\n",
       "      <td>0.000000</td>\n",
       "    </tr>\n",
       "    <tr>\n",
       "      <th>1</th>\n",
       "      <td>0.000004</td>\n",
       "      <td>0.017205</td>\n",
       "      <td>0.982790</td>\n",
       "    </tr>\n",
       "    <tr>\n",
       "      <th>2</th>\n",
       "      <td>0.009022</td>\n",
       "      <td>0.937858</td>\n",
       "      <td>0.053119</td>\n",
       "    </tr>\n",
       "    <tr>\n",
       "      <th>3</th>\n",
       "      <td>0.000388</td>\n",
       "      <td>0.171896</td>\n",
       "      <td>0.827716</td>\n",
       "    </tr>\n",
       "    <tr>\n",
       "      <th>4</th>\n",
       "      <td>0.947999</td>\n",
       "      <td>0.052001</td>\n",
       "      <td>0.000000</td>\n",
       "    </tr>\n",
       "  </tbody>\n",
       "</table>\n",
       "</div>"
      ],
      "text/plain": [
       "   Iris-setosa  Iris-versicolor  Iris-virginica\n",
       "0     0.984319         0.015681        0.000000\n",
       "1     0.000004         0.017205        0.982790\n",
       "2     0.009022         0.937858        0.053119\n",
       "3     0.000388         0.171896        0.827716\n",
       "4     0.947999         0.052001        0.000000"
      ]
     },
     "execution_count": 26,
     "metadata": {},
     "output_type": "execute_result"
    }
   ],
   "source": [
    "#output into shape and a readable format\n",
    "df = pd.DataFrame(log_reg.predict_proba(testX), columns=log_reg.classes_)\n",
    "df.head()\n",
    "#with the .classes_ function we get the order of the classes that Python gave."
   ]
  },
  {
   "cell_type": "code",
   "execution_count": 27,
   "id": "f3fec69a",
   "metadata": {},
   "outputs": [
    {
     "data": {
      "text/html": [
       "<div>\n",
       "<style scoped>\n",
       "    .dataframe tbody tr th:only-of-type {\n",
       "        vertical-align: middle;\n",
       "    }\n",
       "\n",
       "    .dataframe tbody tr th {\n",
       "        vertical-align: top;\n",
       "    }\n",
       "\n",
       "    .dataframe thead th {\n",
       "        text-align: right;\n",
       "    }\n",
       "</style>\n",
       "<table border=\"1\" class=\"dataframe\">\n",
       "  <thead>\n",
       "    <tr style=\"text-align: right;\">\n",
       "      <th></th>\n",
       "      <th>Iris-setosa</th>\n",
       "      <th>Iris-versicolor</th>\n",
       "      <th>Iris-virginica</th>\n",
       "      <th>sum</th>\n",
       "    </tr>\n",
       "  </thead>\n",
       "  <tbody>\n",
       "    <tr>\n",
       "      <th>0</th>\n",
       "      <td>0.984319</td>\n",
       "      <td>0.015681</td>\n",
       "      <td>0.000000</td>\n",
       "      <td>1.000000</td>\n",
       "    </tr>\n",
       "    <tr>\n",
       "      <th>1</th>\n",
       "      <td>0.000004</td>\n",
       "      <td>0.017205</td>\n",
       "      <td>0.982790</td>\n",
       "      <td>1.000000</td>\n",
       "    </tr>\n",
       "    <tr>\n",
       "      <th>2</th>\n",
       "      <td>0.009022</td>\n",
       "      <td>0.937858</td>\n",
       "      <td>0.053119</td>\n",
       "      <td>1.000000</td>\n",
       "    </tr>\n",
       "    <tr>\n",
       "      <th>3</th>\n",
       "      <td>0.000388</td>\n",
       "      <td>0.171896</td>\n",
       "      <td>0.827716</td>\n",
       "      <td>1.000000</td>\n",
       "    </tr>\n",
       "    <tr>\n",
       "      <th>4</th>\n",
       "      <td>0.947999</td>\n",
       "      <td>0.052001</td>\n",
       "      <td>0.000000</td>\n",
       "      <td>1.000000</td>\n",
       "    </tr>\n",
       "  </tbody>\n",
       "</table>\n",
       "</div>"
      ],
      "text/plain": [
       "   Iris-setosa  Iris-versicolor  Iris-virginica      sum\n",
       "0     0.984319         0.015681        0.000000 1.000000\n",
       "1     0.000004         0.017205        0.982790 1.000000\n",
       "2     0.009022         0.937858        0.053119 1.000000\n",
       "3     0.000388         0.171896        0.827716 1.000000\n",
       "4     0.947999         0.052001        0.000000 1.000000"
      ]
     },
     "execution_count": 27,
     "metadata": {},
     "output_type": "execute_result"
    }
   ],
   "source": [
    "#sum of the probabilities must always be 1\n",
    "df['sum'] = df.sum(axis=1)\n",
    "df.head()"
   ]
  },
  {
   "cell_type": "code",
   "execution_count": 28,
   "id": "8e2a1fc5",
   "metadata": {},
   "outputs": [
    {
     "data": {
      "text/html": [
       "<div>\n",
       "<style scoped>\n",
       "    .dataframe tbody tr th:only-of-type {\n",
       "        vertical-align: middle;\n",
       "    }\n",
       "\n",
       "    .dataframe tbody tr th {\n",
       "        vertical-align: top;\n",
       "    }\n",
       "\n",
       "    .dataframe thead th {\n",
       "        text-align: right;\n",
       "    }\n",
       "</style>\n",
       "<table border=\"1\" class=\"dataframe\">\n",
       "  <thead>\n",
       "    <tr style=\"text-align: right;\">\n",
       "      <th></th>\n",
       "      <th>Iris-setosa</th>\n",
       "      <th>Iris-versicolor</th>\n",
       "      <th>Iris-virginica</th>\n",
       "      <th>sum</th>\n",
       "      <th>predicted_class</th>\n",
       "    </tr>\n",
       "  </thead>\n",
       "  <tbody>\n",
       "    <tr>\n",
       "      <th>0</th>\n",
       "      <td>0.984319</td>\n",
       "      <td>0.015681</td>\n",
       "      <td>0.000000</td>\n",
       "      <td>1.000000</td>\n",
       "      <td>Iris-setosa</td>\n",
       "    </tr>\n",
       "    <tr>\n",
       "      <th>1</th>\n",
       "      <td>0.000004</td>\n",
       "      <td>0.017205</td>\n",
       "      <td>0.982790</td>\n",
       "      <td>1.000000</td>\n",
       "      <td>Iris-virginica</td>\n",
       "    </tr>\n",
       "    <tr>\n",
       "      <th>2</th>\n",
       "      <td>0.009022</td>\n",
       "      <td>0.937858</td>\n",
       "      <td>0.053119</td>\n",
       "      <td>1.000000</td>\n",
       "      <td>Iris-versicolor</td>\n",
       "    </tr>\n",
       "    <tr>\n",
       "      <th>3</th>\n",
       "      <td>0.000388</td>\n",
       "      <td>0.171896</td>\n",
       "      <td>0.827716</td>\n",
       "      <td>1.000000</td>\n",
       "      <td>Iris-virginica</td>\n",
       "    </tr>\n",
       "    <tr>\n",
       "      <th>4</th>\n",
       "      <td>0.947999</td>\n",
       "      <td>0.052001</td>\n",
       "      <td>0.000000</td>\n",
       "      <td>1.000000</td>\n",
       "      <td>Iris-setosa</td>\n",
       "    </tr>\n",
       "  </tbody>\n",
       "</table>\n",
       "</div>"
      ],
      "text/plain": [
       "   Iris-setosa  Iris-versicolor  Iris-virginica      sum  predicted_class\n",
       "0     0.984319         0.015681        0.000000 1.000000      Iris-setosa\n",
       "1     0.000004         0.017205        0.982790 1.000000   Iris-virginica\n",
       "2     0.009022         0.937858        0.053119 1.000000  Iris-versicolor\n",
       "3     0.000388         0.171896        0.827716 1.000000   Iris-virginica\n",
       "4     0.947999         0.052001        0.000000 1.000000      Iris-setosa"
      ]
     },
     "execution_count": 28,
     "metadata": {},
     "output_type": "execute_result"
    }
   ],
   "source": [
    "# add the predicted classes…\n",
    "df['predicted_class'] = y_pred\n",
    "df.head()"
   ]
  },
  {
   "cell_type": "code",
   "execution_count": 29,
   "id": "bc21a770",
   "metadata": {},
   "outputs": [
    {
     "data": {
      "text/html": [
       "<div>\n",
       "<style scoped>\n",
       "    .dataframe tbody tr th:only-of-type {\n",
       "        vertical-align: middle;\n",
       "    }\n",
       "\n",
       "    .dataframe tbody tr th {\n",
       "        vertical-align: top;\n",
       "    }\n",
       "\n",
       "    .dataframe thead th {\n",
       "        text-align: right;\n",
       "    }\n",
       "</style>\n",
       "<table border=\"1\" class=\"dataframe\">\n",
       "  <thead>\n",
       "    <tr style=\"text-align: right;\">\n",
       "      <th></th>\n",
       "      <th>Iris-setosa</th>\n",
       "      <th>Iris-versicolor</th>\n",
       "      <th>Iris-virginica</th>\n",
       "      <th>sum</th>\n",
       "      <th>predicted_class</th>\n",
       "      <th>actual_class</th>\n",
       "    </tr>\n",
       "  </thead>\n",
       "  <tbody>\n",
       "    <tr>\n",
       "      <th>0</th>\n",
       "      <td>0.984319</td>\n",
       "      <td>0.015681</td>\n",
       "      <td>0.000000</td>\n",
       "      <td>1.000000</td>\n",
       "      <td>Iris-setosa</td>\n",
       "      <td>Iris-setosa</td>\n",
       "    </tr>\n",
       "    <tr>\n",
       "      <th>1</th>\n",
       "      <td>0.000004</td>\n",
       "      <td>0.017205</td>\n",
       "      <td>0.982790</td>\n",
       "      <td>1.000000</td>\n",
       "      <td>Iris-virginica</td>\n",
       "      <td>Iris-virginica</td>\n",
       "    </tr>\n",
       "    <tr>\n",
       "      <th>2</th>\n",
       "      <td>0.009022</td>\n",
       "      <td>0.937858</td>\n",
       "      <td>0.053119</td>\n",
       "      <td>1.000000</td>\n",
       "      <td>Iris-versicolor</td>\n",
       "      <td>Iris-versicolor</td>\n",
       "    </tr>\n",
       "    <tr>\n",
       "      <th>3</th>\n",
       "      <td>0.000388</td>\n",
       "      <td>0.171896</td>\n",
       "      <td>0.827716</td>\n",
       "      <td>1.000000</td>\n",
       "      <td>Iris-virginica</td>\n",
       "      <td>Iris-virginica</td>\n",
       "    </tr>\n",
       "    <tr>\n",
       "      <th>4</th>\n",
       "      <td>0.947999</td>\n",
       "      <td>0.052001</td>\n",
       "      <td>0.000000</td>\n",
       "      <td>1.000000</td>\n",
       "      <td>Iris-setosa</td>\n",
       "      <td>Iris-setosa</td>\n",
       "    </tr>\n",
       "  </tbody>\n",
       "</table>\n",
       "</div>"
      ],
      "text/plain": [
       "   Iris-setosa  Iris-versicolor  Iris-virginica      sum  predicted_class  \\\n",
       "0     0.984319         0.015681        0.000000 1.000000      Iris-setosa   \n",
       "1     0.000004         0.017205        0.982790 1.000000   Iris-virginica   \n",
       "2     0.009022         0.937858        0.053119 1.000000  Iris-versicolor   \n",
       "3     0.000388         0.171896        0.827716 1.000000   Iris-virginica   \n",
       "4     0.947999         0.052001        0.000000 1.000000      Iris-setosa   \n",
       "\n",
       "      actual_class  \n",
       "0      Iris-setosa  \n",
       "1   Iris-virginica  \n",
       "2  Iris-versicolor  \n",
       "3   Iris-virginica  \n",
       "4      Iris-setosa  "
      ]
     },
     "execution_count": 29,
     "metadata": {},
     "output_type": "execute_result"
    }
   ],
   "source": [
    "#actual classes:\n",
    "df['actual_class'] = testY.to_frame().reset_index().drop(columns='index')\n",
    "df.head()"
   ]
  },
  {
   "cell_type": "code",
   "execution_count": 30,
   "id": "1ad4ebd8",
   "metadata": {},
   "outputs": [
    {
     "data": {
      "text/html": [
       "<div>\n",
       "<style scoped>\n",
       "    .dataframe tbody tr th:only-of-type {\n",
       "        vertical-align: middle;\n",
       "    }\n",
       "\n",
       "    .dataframe tbody tr th {\n",
       "        vertical-align: top;\n",
       "    }\n",
       "\n",
       "    .dataframe thead th {\n",
       "        text-align: right;\n",
       "    }\n",
       "</style>\n",
       "<table border=\"1\" class=\"dataframe\">\n",
       "  <thead>\n",
       "    <tr style=\"text-align: right;\">\n",
       "      <th></th>\n",
       "      <th>Iris-setosa</th>\n",
       "      <th>Iris-versicolor</th>\n",
       "      <th>Iris-virginica</th>\n",
       "      <th>sum</th>\n",
       "      <th>predicted_class</th>\n",
       "      <th>actual_class</th>\n",
       "      <th>label_pred</th>\n",
       "      <th>label_actual</th>\n",
       "    </tr>\n",
       "  </thead>\n",
       "  <tbody>\n",
       "    <tr>\n",
       "      <th>0</th>\n",
       "      <td>0.984319</td>\n",
       "      <td>0.015681</td>\n",
       "      <td>0.000000</td>\n",
       "      <td>1.000000</td>\n",
       "      <td>Iris-setosa</td>\n",
       "      <td>Iris-setosa</td>\n",
       "      <td>0</td>\n",
       "      <td>0</td>\n",
       "    </tr>\n",
       "    <tr>\n",
       "      <th>1</th>\n",
       "      <td>0.000004</td>\n",
       "      <td>0.017205</td>\n",
       "      <td>0.982790</td>\n",
       "      <td>1.000000</td>\n",
       "      <td>Iris-virginica</td>\n",
       "      <td>Iris-virginica</td>\n",
       "      <td>2</td>\n",
       "      <td>2</td>\n",
       "    </tr>\n",
       "    <tr>\n",
       "      <th>2</th>\n",
       "      <td>0.009022</td>\n",
       "      <td>0.937858</td>\n",
       "      <td>0.053119</td>\n",
       "      <td>1.000000</td>\n",
       "      <td>Iris-versicolor</td>\n",
       "      <td>Iris-versicolor</td>\n",
       "      <td>1</td>\n",
       "      <td>1</td>\n",
       "    </tr>\n",
       "    <tr>\n",
       "      <th>3</th>\n",
       "      <td>0.000388</td>\n",
       "      <td>0.171896</td>\n",
       "      <td>0.827716</td>\n",
       "      <td>1.000000</td>\n",
       "      <td>Iris-virginica</td>\n",
       "      <td>Iris-virginica</td>\n",
       "      <td>2</td>\n",
       "      <td>2</td>\n",
       "    </tr>\n",
       "    <tr>\n",
       "      <th>4</th>\n",
       "      <td>0.947999</td>\n",
       "      <td>0.052001</td>\n",
       "      <td>0.000000</td>\n",
       "      <td>1.000000</td>\n",
       "      <td>Iris-setosa</td>\n",
       "      <td>Iris-setosa</td>\n",
       "      <td>0</td>\n",
       "      <td>0</td>\n",
       "    </tr>\n",
       "  </tbody>\n",
       "</table>\n",
       "</div>"
      ],
      "text/plain": [
       "   Iris-setosa  Iris-versicolor  Iris-virginica      sum  predicted_class  \\\n",
       "0     0.984319         0.015681        0.000000 1.000000      Iris-setosa   \n",
       "1     0.000004         0.017205        0.982790 1.000000   Iris-virginica   \n",
       "2     0.009022         0.937858        0.053119 1.000000  Iris-versicolor   \n",
       "3     0.000388         0.171896        0.827716 1.000000   Iris-virginica   \n",
       "4     0.947999         0.052001        0.000000 1.000000      Iris-setosa   \n",
       "\n",
       "      actual_class  label_pred  label_actual  \n",
       "0      Iris-setosa           0             0  \n",
       "1   Iris-virginica           2             2  \n",
       "2  Iris-versicolor           1             1  \n",
       "3   Iris-virginica           2             2  \n",
       "4      Iris-setosa           0             0  "
      ]
     },
     "execution_count": 30,
     "metadata": {},
     "output_type": "execute_result"
    }
   ],
   "source": [
    "#do a plausibility check whether the classes were predicted correctly.\n",
    "le = preprocessing.LabelEncoder()\n",
    "df['label_pred'] = le.fit_transform(df['predicted_class'])\n",
    "df['label_actual'] = le.fit_transform(df['actual_class'])\n",
    "df.head()\n"
   ]
  },
  {
   "cell_type": "code",
   "execution_count": 31,
   "id": "27a06063",
   "metadata": {},
   "outputs": [],
   "source": [
    "#see that the two variables (predicted_class & actual_class) were coded the same and can therefore be continued properly."
   ]
  },
  {
   "cell_type": "code",
   "execution_count": 32,
   "id": "f4510f56",
   "metadata": {},
   "outputs": [
    {
     "data": {
      "text/plain": [
       "{'Iris-setosa': 0, 'Iris-virginica': 2, 'Iris-versicolor': 1}"
      ]
     },
     "execution_count": 32,
     "metadata": {},
     "output_type": "execute_result"
    }
   ],
   "source": [
    "targets = df['predicted_class']\n",
    "integerEncoded = le.fit_transform(targets)\n",
    "integerMapping=dict(zip(targets,integerEncoded))\n",
    "integerMapping\n"
   ]
  },
  {
   "cell_type": "code",
   "execution_count": 33,
   "id": "6ba9df3f",
   "metadata": {},
   "outputs": [
    {
     "data": {
      "text/plain": [
       "{'Iris-setosa': 0, 'Iris-virginica': 2, 'Iris-versicolor': 1}"
      ]
     },
     "execution_count": 33,
     "metadata": {},
     "output_type": "execute_result"
    }
   ],
   "source": [
    "targets = df['actual_class']\n",
    "integerEncoded = le.fit_transform(targets)\n",
    "integerMapping=dict(zip(targets,integerEncoded))\n",
    "integerMapping"
   ]
  },
  {
   "cell_type": "code",
   "execution_count": 34,
   "id": "688ebbd8",
   "metadata": {},
   "outputs": [],
   "source": [
    "#plausibility check whether the classes were predicted correctly. If the result of subtraction is 0, it was a correct estimate of the model.\n"
   ]
  },
  {
   "cell_type": "code",
   "execution_count": 35,
   "id": "8d349fdd",
   "metadata": {},
   "outputs": [
    {
     "data": {
      "text/html": [
       "<div>\n",
       "<style scoped>\n",
       "    .dataframe tbody tr th:only-of-type {\n",
       "        vertical-align: middle;\n",
       "    }\n",
       "\n",
       "    .dataframe tbody tr th {\n",
       "        vertical-align: top;\n",
       "    }\n",
       "\n",
       "    .dataframe thead th {\n",
       "        text-align: right;\n",
       "    }\n",
       "</style>\n",
       "<table border=\"1\" class=\"dataframe\">\n",
       "  <thead>\n",
       "    <tr style=\"text-align: right;\">\n",
       "      <th></th>\n",
       "      <th>Iris-setosa</th>\n",
       "      <th>Iris-versicolor</th>\n",
       "      <th>Iris-virginica</th>\n",
       "      <th>sum</th>\n",
       "      <th>predicted_class</th>\n",
       "      <th>actual_class</th>\n",
       "      <th>label_pred</th>\n",
       "      <th>label_actual</th>\n",
       "      <th>check</th>\n",
       "    </tr>\n",
       "  </thead>\n",
       "  <tbody>\n",
       "    <tr>\n",
       "      <th>0</th>\n",
       "      <td>0.984319</td>\n",
       "      <td>0.015681</td>\n",
       "      <td>0.000000</td>\n",
       "      <td>1.000000</td>\n",
       "      <td>Iris-setosa</td>\n",
       "      <td>Iris-setosa</td>\n",
       "      <td>0</td>\n",
       "      <td>0</td>\n",
       "      <td>0</td>\n",
       "    </tr>\n",
       "    <tr>\n",
       "      <th>1</th>\n",
       "      <td>0.000004</td>\n",
       "      <td>0.017205</td>\n",
       "      <td>0.982790</td>\n",
       "      <td>1.000000</td>\n",
       "      <td>Iris-virginica</td>\n",
       "      <td>Iris-virginica</td>\n",
       "      <td>2</td>\n",
       "      <td>2</td>\n",
       "      <td>0</td>\n",
       "    </tr>\n",
       "    <tr>\n",
       "      <th>2</th>\n",
       "      <td>0.009022</td>\n",
       "      <td>0.937858</td>\n",
       "      <td>0.053119</td>\n",
       "      <td>1.000000</td>\n",
       "      <td>Iris-versicolor</td>\n",
       "      <td>Iris-versicolor</td>\n",
       "      <td>1</td>\n",
       "      <td>1</td>\n",
       "      <td>0</td>\n",
       "    </tr>\n",
       "    <tr>\n",
       "      <th>3</th>\n",
       "      <td>0.000388</td>\n",
       "      <td>0.171896</td>\n",
       "      <td>0.827716</td>\n",
       "      <td>1.000000</td>\n",
       "      <td>Iris-virginica</td>\n",
       "      <td>Iris-virginica</td>\n",
       "      <td>2</td>\n",
       "      <td>2</td>\n",
       "      <td>0</td>\n",
       "    </tr>\n",
       "    <tr>\n",
       "      <th>4</th>\n",
       "      <td>0.947999</td>\n",
       "      <td>0.052001</td>\n",
       "      <td>0.000000</td>\n",
       "      <td>1.000000</td>\n",
       "      <td>Iris-setosa</td>\n",
       "      <td>Iris-setosa</td>\n",
       "      <td>0</td>\n",
       "      <td>0</td>\n",
       "      <td>0</td>\n",
       "    </tr>\n",
       "    <tr>\n",
       "      <th>5</th>\n",
       "      <td>0.995057</td>\n",
       "      <td>0.004943</td>\n",
       "      <td>0.000000</td>\n",
       "      <td>1.000000</td>\n",
       "      <td>Iris-setosa</td>\n",
       "      <td>Iris-setosa</td>\n",
       "      <td>0</td>\n",
       "      <td>0</td>\n",
       "      <td>0</td>\n",
       "    </tr>\n",
       "    <tr>\n",
       "      <th>6</th>\n",
       "      <td>0.968242</td>\n",
       "      <td>0.031758</td>\n",
       "      <td>0.000000</td>\n",
       "      <td>1.000000</td>\n",
       "      <td>Iris-setosa</td>\n",
       "      <td>Iris-setosa</td>\n",
       "      <td>0</td>\n",
       "      <td>0</td>\n",
       "      <td>0</td>\n",
       "    </tr>\n",
       "  </tbody>\n",
       "</table>\n",
       "</div>"
      ],
      "text/plain": [
       "   Iris-setosa  Iris-versicolor  Iris-virginica      sum  predicted_class  \\\n",
       "0     0.984319         0.015681        0.000000 1.000000      Iris-setosa   \n",
       "1     0.000004         0.017205        0.982790 1.000000   Iris-virginica   \n",
       "2     0.009022         0.937858        0.053119 1.000000  Iris-versicolor   \n",
       "3     0.000388         0.171896        0.827716 1.000000   Iris-virginica   \n",
       "4     0.947999         0.052001        0.000000 1.000000      Iris-setosa   \n",
       "5     0.995057         0.004943        0.000000 1.000000      Iris-setosa   \n",
       "6     0.968242         0.031758        0.000000 1.000000      Iris-setosa   \n",
       "\n",
       "      actual_class  label_pred  label_actual  check  \n",
       "0      Iris-setosa           0             0      0  \n",
       "1   Iris-virginica           2             2      0  \n",
       "2  Iris-versicolor           1             1      0  \n",
       "3   Iris-virginica           2             2      0  \n",
       "4      Iris-setosa           0             0      0  \n",
       "5      Iris-setosa           0             0      0  \n",
       "6      Iris-setosa           0             0      0  "
      ]
     },
     "execution_count": 35,
     "metadata": {},
     "output_type": "execute_result"
    }
   ],
   "source": [
    "df['check'] = df['label_actual'] - df['label_pred']\n",
    "df.head(7)"
   ]
  },
  {
   "cell_type": "code",
   "execution_count": 36,
   "id": "843d4d51",
   "metadata": {},
   "outputs": [
    {
     "data": {
      "text/html": [
       "<div>\n",
       "<style scoped>\n",
       "    .dataframe tbody tr th:only-of-type {\n",
       "        vertical-align: middle;\n",
       "    }\n",
       "\n",
       "    .dataframe tbody tr th {\n",
       "        vertical-align: top;\n",
       "    }\n",
       "\n",
       "    .dataframe thead th {\n",
       "        text-align: right;\n",
       "    }\n",
       "</style>\n",
       "<table border=\"1\" class=\"dataframe\">\n",
       "  <thead>\n",
       "    <tr style=\"text-align: right;\">\n",
       "      <th></th>\n",
       "      <th>Iris-setosa</th>\n",
       "      <th>Iris-versicolor</th>\n",
       "      <th>Iris-virginica</th>\n",
       "      <th>sum</th>\n",
       "      <th>predicted_class</th>\n",
       "      <th>actual_class</th>\n",
       "      <th>correct_prediction?</th>\n",
       "    </tr>\n",
       "  </thead>\n",
       "  <tbody>\n",
       "    <tr>\n",
       "      <th>0</th>\n",
       "      <td>0.984319</td>\n",
       "      <td>0.015681</td>\n",
       "      <td>0.000000</td>\n",
       "      <td>1.000000</td>\n",
       "      <td>Iris-setosa</td>\n",
       "      <td>Iris-setosa</td>\n",
       "      <td>True</td>\n",
       "    </tr>\n",
       "    <tr>\n",
       "      <th>1</th>\n",
       "      <td>0.000004</td>\n",
       "      <td>0.017205</td>\n",
       "      <td>0.982790</td>\n",
       "      <td>1.000000</td>\n",
       "      <td>Iris-virginica</td>\n",
       "      <td>Iris-virginica</td>\n",
       "      <td>True</td>\n",
       "    </tr>\n",
       "    <tr>\n",
       "      <th>2</th>\n",
       "      <td>0.009022</td>\n",
       "      <td>0.937858</td>\n",
       "      <td>0.053119</td>\n",
       "      <td>1.000000</td>\n",
       "      <td>Iris-versicolor</td>\n",
       "      <td>Iris-versicolor</td>\n",
       "      <td>True</td>\n",
       "    </tr>\n",
       "    <tr>\n",
       "      <th>3</th>\n",
       "      <td>0.000388</td>\n",
       "      <td>0.171896</td>\n",
       "      <td>0.827716</td>\n",
       "      <td>1.000000</td>\n",
       "      <td>Iris-virginica</td>\n",
       "      <td>Iris-virginica</td>\n",
       "      <td>True</td>\n",
       "    </tr>\n",
       "    <tr>\n",
       "      <th>4</th>\n",
       "      <td>0.947999</td>\n",
       "      <td>0.052001</td>\n",
       "      <td>0.000000</td>\n",
       "      <td>1.000000</td>\n",
       "      <td>Iris-setosa</td>\n",
       "      <td>Iris-setosa</td>\n",
       "      <td>True</td>\n",
       "    </tr>\n",
       "  </tbody>\n",
       "</table>\n",
       "</div>"
      ],
      "text/plain": [
       "   Iris-setosa  Iris-versicolor  Iris-virginica      sum  predicted_class  \\\n",
       "0     0.984319         0.015681        0.000000 1.000000      Iris-setosa   \n",
       "1     0.000004         0.017205        0.982790 1.000000   Iris-virginica   \n",
       "2     0.009022         0.937858        0.053119 1.000000  Iris-versicolor   \n",
       "3     0.000388         0.171896        0.827716 1.000000   Iris-virginica   \n",
       "4     0.947999         0.052001        0.000000 1.000000      Iris-setosa   \n",
       "\n",
       "      actual_class correct_prediction?  \n",
       "0      Iris-setosa                True  \n",
       "1   Iris-virginica                True  \n",
       "2  Iris-versicolor                True  \n",
       "3   Iris-virginica                True  \n",
       "4      Iris-setosa                True  "
      ]
     },
     "execution_count": 36,
     "metadata": {},
     "output_type": "execute_result"
    }
   ],
   "source": [
    "#For better orientation, we give the observations descriptive names and delete unnecessary columns.\n",
    "df['correct_prediction?'] = np.where(df['check'] == 0, 'True', 'False')\n",
    "df = df.drop(['label_pred', 'label_actual', 'check'], axis=1)\n",
    "df.head()\n"
   ]
  },
  {
   "cell_type": "code",
   "execution_count": 37,
   "id": "372e8fcb",
   "metadata": {},
   "outputs": [
    {
     "name": "stdout",
     "output_type": "stream",
     "text": [
      "manual calculated Accuracy is: 96.66666666666667\n"
     ]
    }
   ],
   "source": [
    "#use the generated “values” to manually calculate the accuracy again.\n",
    "true_predictions = df[(df[\"correct_prediction?\"] == 'True')].shape[0]\n",
    "false_predictions = df[(df[\"correct_prediction?\"] == 'False')].shape[0]\n",
    "total = df[\"correct_prediction?\"].shape[0]\n",
    "print('manual calculated Accuracy is:', (true_predictions / total * 100))\n"
   ]
  },
  {
   "cell_type": "code",
   "execution_count": 38,
   "id": "2167cc01",
   "metadata": {},
   "outputs": [
    {
     "data": {
      "text/html": [
       "<div>\n",
       "<style scoped>\n",
       "    .dataframe tbody tr th:only-of-type {\n",
       "        vertical-align: middle;\n",
       "    }\n",
       "\n",
       "    .dataframe tbody tr th {\n",
       "        vertical-align: top;\n",
       "    }\n",
       "\n",
       "    .dataframe thead th {\n",
       "        text-align: right;\n",
       "    }\n",
       "</style>\n",
       "<table border=\"1\" class=\"dataframe\">\n",
       "  <thead>\n",
       "    <tr style=\"text-align: right;\">\n",
       "      <th></th>\n",
       "      <th>Iris-setosa</th>\n",
       "      <th>Iris-versicolor</th>\n",
       "      <th>Iris-virginica</th>\n",
       "      <th>sum</th>\n",
       "      <th>predicted_class</th>\n",
       "      <th>actual_class</th>\n",
       "      <th>correct_prediction?</th>\n",
       "    </tr>\n",
       "  </thead>\n",
       "  <tbody>\n",
       "    <tr>\n",
       "      <th>29</th>\n",
       "      <td>0.000679</td>\n",
       "      <td>0.357515</td>\n",
       "      <td>0.641806</td>\n",
       "      <td>1.000000</td>\n",
       "      <td>Iris-virginica</td>\n",
       "      <td>Iris-versicolor</td>\n",
       "      <td>False</td>\n",
       "    </tr>\n",
       "  </tbody>\n",
       "</table>\n",
       "</div>"
      ],
      "text/plain": [
       "    Iris-setosa  Iris-versicolor  Iris-virginica      sum predicted_class  \\\n",
       "29     0.000679         0.357515        0.641806 1.000000  Iris-virginica   \n",
       "\n",
       "       actual_class correct_prediction?  \n",
       "29  Iris-versicolor               False  "
      ]
     },
     "execution_count": 38,
     "metadata": {},
     "output_type": "execute_result"
    }
   ],
   "source": [
    "#take finally a look at the probabilities of the mispredicted classes\n",
    "wrong_pred = df[(df[\"correct_prediction?\"] == 'False')]\n",
    "wrong_pred"
   ]
  },
  {
   "cell_type": "code",
   "execution_count": 41,
   "id": "9ce16f7b",
   "metadata": {},
   "outputs": [
    {
     "name": "stdout",
     "output_type": "stream",
     "text": [
      "Warning: Maximum number of iterations has been exceeded.\n",
      "         Current function value: 18.236001\n",
      "         Iterations: 35\n",
      "                          MNLogit Regression Results                          \n",
      "==============================================================================\n",
      "Dep. Variable:                species   No. Observations:                  150\n",
      "Model:                        MNLogit   Df Residuals:                      140\n",
      "Method:                           MLE   Df Model:                            8\n",
      "Date:                Fri, 27 May 2022   Pseudo R-squ.:                  -15.60\n",
      "Time:                        19:03:33   Log-Likelihood:                -2735.4\n",
      "converged:                      False   LL-Null:                       -164.79\n",
      "Covariance Type:            nonrobust   LLR p-value:                     1.000\n",
      "==========================================================================================\n",
      "species=Iris-versicolor       coef    std err          z      P>|z|      [0.025      0.975]\n",
      "-------------------------------------------------------------------------------------------\n",
      "sepal_length                4.2844   2.37e+04      0.000      1.000   -4.64e+04    4.64e+04\n",
      "sepal_width                -9.9903   1.65e+04     -0.001      1.000   -3.23e+04    3.23e+04\n",
      "petal_length               -6.1478   2.07e+04     -0.000      1.000   -4.07e+04    4.06e+04\n",
      "petal_width                 0.4422   6.02e+04   7.35e-06      1.000   -1.18e+05    1.18e+05\n",
      "const                      -1.3966   7.19e+04  -1.94e-05      1.000   -1.41e+05    1.41e+05\n",
      "-------------------------------------------------------------------------------------------\n",
      "species=Iris-virginica       coef    std err          z      P>|z|      [0.025      0.975]\n",
      "------------------------------------------------------------------------------------------\n",
      "sepal_length               1.8192    1.2e+04      0.000      1.000   -2.35e+04    2.35e+04\n",
      "sepal_width              -16.6712   2.69e+04     -0.001      1.000   -5.27e+04    5.27e+04\n",
      "petal_length               3.2815   1.48e+04      0.000      1.000   -2.91e+04    2.91e+04\n",
      "petal_width               18.7283   1.79e+04      0.001      0.999   -3.51e+04    3.51e+04\n",
      "const                    -44.0343   1.18e+05     -0.000      1.000   -2.31e+05    2.31e+05\n",
      "==========================================================================================\n"
     ]
    },
    {
     "name": "stderr",
     "output_type": "stream",
     "text": [
      "D:\\anaconda\\lib\\site-packages\\statsmodels\\base\\model.py:604: ConvergenceWarning: Maximum Likelihood optimization failed to converge. Check mle_retvals\n",
      "  warnings.warn(\"Maximum Likelihood optimization failed to \"\n"
     ]
    }
   ],
   "source": [
    "#Multinomial Logit with the statsmodel library\n",
    "#To get the p-values of the model created above we have to use the statsmodel␣library again.\n",
    "x = iris.drop('species', axis=1)\n",
    "y = iris['species']\n",
    "x = sm.add_constant(x, prepend = False)\n",
    "mnlogit_mod = sm.MNLogit(y, x)\n",
    "mnlogit_fit = mnlogit_mod.fit()\n",
    "print (mnlogit_fit.summary())"
   ]
  },
  {
   "cell_type": "code",
   "execution_count": null,
   "id": "4ad47758",
   "metadata": {},
   "outputs": [],
   "source": []
  },
  {
   "cell_type": "code",
   "execution_count": null,
   "id": "b4b3b79e",
   "metadata": {},
   "outputs": [],
   "source": []
  }
 ],
 "metadata": {
  "kernelspec": {
   "display_name": "Python 3 (ipykernel)",
   "language": "python",
   "name": "python3"
  },
  "language_info": {
   "codemirror_mode": {
    "name": "ipython",
    "version": 3
   },
   "file_extension": ".py",
   "mimetype": "text/x-python",
   "name": "python",
   "nbconvert_exporter": "python",
   "pygments_lexer": "ipython3",
   "version": "3.9.12"
  }
 },
 "nbformat": 4,
 "nbformat_minor": 5
}
